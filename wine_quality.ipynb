{
 "cells": [
  {
   "cell_type": "code",
   "execution_count": 18,
   "metadata": {},
   "outputs": [],
   "source": [
    "import pandas as pd\n",
    "import numpy as np"
   ]
  },
  {
   "cell_type": "code",
   "execution_count": 19,
   "metadata": {},
   "outputs": [],
   "source": [
    "df=pd.read_csv('wine_train.csv')"
   ]
  },
  {
   "cell_type": "code",
   "execution_count": 20,
   "metadata": {},
   "outputs": [
    {
     "data": {
      "text/html": [
       "<div>\n",
       "<style scoped>\n",
       "    .dataframe tbody tr th:only-of-type {\n",
       "        vertical-align: middle;\n",
       "    }\n",
       "\n",
       "    .dataframe tbody tr th {\n",
       "        vertical-align: top;\n",
       "    }\n",
       "\n",
       "    .dataframe thead th {\n",
       "        text-align: right;\n",
       "    }\n",
       "</style>\n",
       "<table border=\"1\" class=\"dataframe\">\n",
       "  <thead>\n",
       "    <tr style=\"text-align: right;\">\n",
       "      <th></th>\n",
       "      <th>fixed.acidity</th>\n",
       "      <th>volatile.acidity</th>\n",
       "      <th>citric.acid</th>\n",
       "      <th>residual.sugar</th>\n",
       "      <th>chlorides</th>\n",
       "      <th>free.sulfur.dioxide</th>\n",
       "      <th>total.sulfur.dioxide</th>\n",
       "      <th>density</th>\n",
       "      <th>pH</th>\n",
       "      <th>sulphates</th>\n",
       "      <th>alcohol</th>\n",
       "      <th>quality</th>\n",
       "    </tr>\n",
       "  </thead>\n",
       "  <tbody>\n",
       "    <tr>\n",
       "      <th>0</th>\n",
       "      <td>9.0</td>\n",
       "      <td>0.245</td>\n",
       "      <td>0.38</td>\n",
       "      <td>5.9</td>\n",
       "      <td>0.045</td>\n",
       "      <td>52.0</td>\n",
       "      <td>159.0</td>\n",
       "      <td>0.99500</td>\n",
       "      <td>2.93</td>\n",
       "      <td>0.35</td>\n",
       "      <td>10.2</td>\n",
       "      <td>6</td>\n",
       "    </tr>\n",
       "    <tr>\n",
       "      <th>1</th>\n",
       "      <td>8.2</td>\n",
       "      <td>0.420</td>\n",
       "      <td>0.29</td>\n",
       "      <td>4.1</td>\n",
       "      <td>0.030</td>\n",
       "      <td>31.0</td>\n",
       "      <td>100.0</td>\n",
       "      <td>0.99110</td>\n",
       "      <td>3.00</td>\n",
       "      <td>0.32</td>\n",
       "      <td>12.8</td>\n",
       "      <td>7</td>\n",
       "    </tr>\n",
       "    <tr>\n",
       "      <th>2</th>\n",
       "      <td>6.4</td>\n",
       "      <td>0.220</td>\n",
       "      <td>0.32</td>\n",
       "      <td>7.2</td>\n",
       "      <td>0.028</td>\n",
       "      <td>15.0</td>\n",
       "      <td>83.0</td>\n",
       "      <td>0.99300</td>\n",
       "      <td>3.13</td>\n",
       "      <td>0.55</td>\n",
       "      <td>10.9</td>\n",
       "      <td>8</td>\n",
       "    </tr>\n",
       "    <tr>\n",
       "      <th>3</th>\n",
       "      <td>5.0</td>\n",
       "      <td>0.350</td>\n",
       "      <td>0.25</td>\n",
       "      <td>7.8</td>\n",
       "      <td>0.031</td>\n",
       "      <td>24.0</td>\n",
       "      <td>116.0</td>\n",
       "      <td>0.99241</td>\n",
       "      <td>3.39</td>\n",
       "      <td>0.40</td>\n",
       "      <td>11.3</td>\n",
       "      <td>6</td>\n",
       "    </tr>\n",
       "    <tr>\n",
       "      <th>4</th>\n",
       "      <td>7.4</td>\n",
       "      <td>0.300</td>\n",
       "      <td>0.30</td>\n",
       "      <td>5.2</td>\n",
       "      <td>0.053</td>\n",
       "      <td>45.0</td>\n",
       "      <td>163.0</td>\n",
       "      <td>0.99410</td>\n",
       "      <td>3.12</td>\n",
       "      <td>0.45</td>\n",
       "      <td>10.3</td>\n",
       "      <td>6</td>\n",
       "    </tr>\n",
       "    <tr>\n",
       "      <th>...</th>\n",
       "      <td>...</td>\n",
       "      <td>...</td>\n",
       "      <td>...</td>\n",
       "      <td>...</td>\n",
       "      <td>...</td>\n",
       "      <td>...</td>\n",
       "      <td>...</td>\n",
       "      <td>...</td>\n",
       "      <td>...</td>\n",
       "      <td>...</td>\n",
       "      <td>...</td>\n",
       "      <td>...</td>\n",
       "    </tr>\n",
       "    <tr>\n",
       "      <th>3668</th>\n",
       "      <td>7.1</td>\n",
       "      <td>0.340</td>\n",
       "      <td>0.32</td>\n",
       "      <td>2.0</td>\n",
       "      <td>0.051</td>\n",
       "      <td>29.0</td>\n",
       "      <td>130.0</td>\n",
       "      <td>0.99354</td>\n",
       "      <td>3.30</td>\n",
       "      <td>0.50</td>\n",
       "      <td>10.4</td>\n",
       "      <td>6</td>\n",
       "    </tr>\n",
       "    <tr>\n",
       "      <th>3669</th>\n",
       "      <td>6.4</td>\n",
       "      <td>0.290</td>\n",
       "      <td>0.57</td>\n",
       "      <td>1.0</td>\n",
       "      <td>0.060</td>\n",
       "      <td>15.0</td>\n",
       "      <td>120.0</td>\n",
       "      <td>0.99240</td>\n",
       "      <td>3.06</td>\n",
       "      <td>0.41</td>\n",
       "      <td>9.5</td>\n",
       "      <td>5</td>\n",
       "    </tr>\n",
       "    <tr>\n",
       "      <th>3670</th>\n",
       "      <td>8.0</td>\n",
       "      <td>0.260</td>\n",
       "      <td>0.28</td>\n",
       "      <td>8.2</td>\n",
       "      <td>0.038</td>\n",
       "      <td>72.0</td>\n",
       "      <td>202.0</td>\n",
       "      <td>0.99566</td>\n",
       "      <td>3.12</td>\n",
       "      <td>0.56</td>\n",
       "      <td>10.0</td>\n",
       "      <td>6</td>\n",
       "    </tr>\n",
       "    <tr>\n",
       "      <th>3671</th>\n",
       "      <td>6.7</td>\n",
       "      <td>0.150</td>\n",
       "      <td>0.29</td>\n",
       "      <td>5.0</td>\n",
       "      <td>0.058</td>\n",
       "      <td>28.0</td>\n",
       "      <td>105.0</td>\n",
       "      <td>0.99460</td>\n",
       "      <td>3.52</td>\n",
       "      <td>0.44</td>\n",
       "      <td>10.2</td>\n",
       "      <td>7</td>\n",
       "    </tr>\n",
       "    <tr>\n",
       "      <th>3672</th>\n",
       "      <td>6.4</td>\n",
       "      <td>0.230</td>\n",
       "      <td>0.26</td>\n",
       "      <td>8.1</td>\n",
       "      <td>0.054</td>\n",
       "      <td>47.0</td>\n",
       "      <td>181.0</td>\n",
       "      <td>0.99540</td>\n",
       "      <td>3.12</td>\n",
       "      <td>0.49</td>\n",
       "      <td>9.4</td>\n",
       "      <td>5</td>\n",
       "    </tr>\n",
       "  </tbody>\n",
       "</table>\n",
       "<p>3673 rows × 12 columns</p>\n",
       "</div>"
      ],
      "text/plain": [
       "      fixed.acidity  volatile.acidity  citric.acid  residual.sugar  chlorides  \\\n",
       "0               9.0             0.245         0.38             5.9      0.045   \n",
       "1               8.2             0.420         0.29             4.1      0.030   \n",
       "2               6.4             0.220         0.32             7.2      0.028   \n",
       "3               5.0             0.350         0.25             7.8      0.031   \n",
       "4               7.4             0.300         0.30             5.2      0.053   \n",
       "...             ...               ...          ...             ...        ...   \n",
       "3668            7.1             0.340         0.32             2.0      0.051   \n",
       "3669            6.4             0.290         0.57             1.0      0.060   \n",
       "3670            8.0             0.260         0.28             8.2      0.038   \n",
       "3671            6.7             0.150         0.29             5.0      0.058   \n",
       "3672            6.4             0.230         0.26             8.1      0.054   \n",
       "\n",
       "      free.sulfur.dioxide  total.sulfur.dioxide  density    pH  sulphates  \\\n",
       "0                    52.0                 159.0  0.99500  2.93       0.35   \n",
       "1                    31.0                 100.0  0.99110  3.00       0.32   \n",
       "2                    15.0                  83.0  0.99300  3.13       0.55   \n",
       "3                    24.0                 116.0  0.99241  3.39       0.40   \n",
       "4                    45.0                 163.0  0.99410  3.12       0.45   \n",
       "...                   ...                   ...      ...   ...        ...   \n",
       "3668                 29.0                 130.0  0.99354  3.30       0.50   \n",
       "3669                 15.0                 120.0  0.99240  3.06       0.41   \n",
       "3670                 72.0                 202.0  0.99566  3.12       0.56   \n",
       "3671                 28.0                 105.0  0.99460  3.52       0.44   \n",
       "3672                 47.0                 181.0  0.99540  3.12       0.49   \n",
       "\n",
       "      alcohol  quality  \n",
       "0        10.2        6  \n",
       "1        12.8        7  \n",
       "2        10.9        8  \n",
       "3        11.3        6  \n",
       "4        10.3        6  \n",
       "...       ...      ...  \n",
       "3668     10.4        6  \n",
       "3669      9.5        5  \n",
       "3670     10.0        6  \n",
       "3671     10.2        7  \n",
       "3672      9.4        5  \n",
       "\n",
       "[3673 rows x 12 columns]"
      ]
     },
     "execution_count": 20,
     "metadata": {},
     "output_type": "execute_result"
    }
   ],
   "source": [
    "df"
   ]
  },
  {
   "cell_type": "code",
   "execution_count": 21,
   "metadata": {},
   "outputs": [],
   "source": [
    "x_train=df.drop(columns=['quality'])\n",
    "y_train=df['quality']"
   ]
  },
  {
   "cell_type": "code",
   "execution_count": 22,
   "metadata": {},
   "outputs": [
    {
     "name": "stderr",
     "output_type": "stream",
     "text": [
      "C:\\Users\\HP\\anaconda3\\lib\\site-packages\\ipykernel_launcher.py:5: SettingWithCopyWarning: \n",
      "A value is trying to be set on a copy of a slice from a DataFrame\n",
      "\n",
      "See the caveats in the documentation: https://pandas.pydata.org/pandas-docs/stable/user_guide/indexing.html#returning-a-view-versus-a-copy\n",
      "  \"\"\"\n",
      "C:\\Users\\HP\\anaconda3\\lib\\site-packages\\pandas\\core\\indexing.py:670: SettingWithCopyWarning: \n",
      "A value is trying to be set on a copy of a slice from a DataFrame\n",
      "\n",
      "See the caveats in the documentation: https://pandas.pydata.org/pandas-docs/stable/user_guide/indexing.html#returning-a-view-versus-a-copy\n",
      "  iloc._setitem_with_indexer(indexer, value)\n",
      "C:\\Users\\HP\\anaconda3\\lib\\site-packages\\ipykernel_launcher.py:7: SettingWithCopyWarning: \n",
      "A value is trying to be set on a copy of a slice from a DataFrame\n",
      "\n",
      "See the caveats in the documentation: https://pandas.pydata.org/pandas-docs/stable/user_guide/indexing.html#returning-a-view-versus-a-copy\n",
      "  import sys\n",
      "C:\\Users\\HP\\anaconda3\\lib\\site-packages\\ipykernel_launcher.py:3: SettingWithCopyWarning: \n",
      "A value is trying to be set on a copy of a slice from a DataFrame\n",
      "\n",
      "See the caveats in the documentation: https://pandas.pydata.org/pandas-docs/stable/user_guide/indexing.html#returning-a-view-versus-a-copy\n",
      "  This is separate from the ipykernel package so we can avoid doing imports until\n"
     ]
    }
   ],
   "source": [
    "for i in range(len(y_train)):\n",
    "    if y_train[i]<6:\n",
    "        y_train[i]='Bad'\n",
    "    elif y_train[i]==6:\n",
    "        y_train[i]='Medium'\n",
    "    else:\n",
    "        y_train[i]='Good'"
   ]
  },
  {
   "cell_type": "code",
   "execution_count": 23,
   "metadata": {},
   "outputs": [],
   "source": [
    "from sklearn.model_selection import train_test_split\n",
    "xtrain,xval,ytrain,yval=train_test_split(x_train, y_train, test_size=0.3, random_state=42)"
   ]
  },
  {
   "cell_type": "code",
   "execution_count": 24,
   "metadata": {},
   "outputs": [
    {
     "data": {
      "text/plain": [
       "array([[<matplotlib.axes._subplots.AxesSubplot object at 0x000001A8D8B70088>,\n",
       "        <matplotlib.axes._subplots.AxesSubplot object at 0x000001A8D8BB6488>,\n",
       "        <matplotlib.axes._subplots.AxesSubplot object at 0x000001A8D8BC4FC8>,\n",
       "        <matplotlib.axes._subplots.AxesSubplot object at 0x000001A8D8BDA148>,\n",
       "        <matplotlib.axes._subplots.AxesSubplot object at 0x000001A8D8BED288>,\n",
       "        <matplotlib.axes._subplots.AxesSubplot object at 0x000001A8D8C003C8>,\n",
       "        <matplotlib.axes._subplots.AxesSubplot object at 0x000001A8D8C179C8>,\n",
       "        <matplotlib.axes._subplots.AxesSubplot object at 0x000001A8D8C3F6C8>,\n",
       "        <matplotlib.axes._subplots.AxesSubplot object at 0x000001A8D8C46548>,\n",
       "        <matplotlib.axes._subplots.AxesSubplot object at 0x000001A8D8C7D4C8>,\n",
       "        <matplotlib.axes._subplots.AxesSubplot object at 0x000001A8D8CD8F08>],\n",
       "       [<matplotlib.axes._subplots.AxesSubplot object at 0x000001A8D8D19048>,\n",
       "        <matplotlib.axes._subplots.AxesSubplot object at 0x000001A8D8D51148>,\n",
       "        <matplotlib.axes._subplots.AxesSubplot object at 0x000001A8D8D89288>,\n",
       "        <matplotlib.axes._subplots.AxesSubplot object at 0x000001A8D8DC3388>,\n",
       "        <matplotlib.axes._subplots.AxesSubplot object at 0x000001A8D8DFC488>,\n",
       "        <matplotlib.axes._subplots.AxesSubplot object at 0x000001A8D8E34588>,\n",
       "        <matplotlib.axes._subplots.AxesSubplot object at 0x000001A8D8E72E88>,\n",
       "        <matplotlib.axes._subplots.AxesSubplot object at 0x000001A8D8EA7788>,\n",
       "        <matplotlib.axes._subplots.AxesSubplot object at 0x000001A8D8EDE8C8>,\n",
       "        <matplotlib.axes._subplots.AxesSubplot object at 0x000001A8D8F179C8>,\n",
       "        <matplotlib.axes._subplots.AxesSubplot object at 0x000001A8D8F50A88>],\n",
       "       [<matplotlib.axes._subplots.AxesSubplot object at 0x000001A8D8F89BC8>,\n",
       "        <matplotlib.axes._subplots.AxesSubplot object at 0x000001A8D8FC0CC8>,\n",
       "        <matplotlib.axes._subplots.AxesSubplot object at 0x000001A8D8FFADC8>,\n",
       "        <matplotlib.axes._subplots.AxesSubplot object at 0x000001A8D9035F08>,\n",
       "        <matplotlib.axes._subplots.AxesSubplot object at 0x000001A8D906BF88>,\n",
       "        <matplotlib.axes._subplots.AxesSubplot object at 0x000001A8D90A90C8>,\n",
       "        <matplotlib.axes._subplots.AxesSubplot object at 0x000001A8D90E2208>,\n",
       "        <matplotlib.axes._subplots.AxesSubplot object at 0x000001A8D911A348>,\n",
       "        <matplotlib.axes._subplots.AxesSubplot object at 0x000001A8D9152448>,\n",
       "        <matplotlib.axes._subplots.AxesSubplot object at 0x000001A8D918B4C8>,\n",
       "        <matplotlib.axes._subplots.AxesSubplot object at 0x000001A8D91B0948>],\n",
       "       [<matplotlib.axes._subplots.AxesSubplot object at 0x000001A8D91EAA48>,\n",
       "        <matplotlib.axes._subplots.AxesSubplot object at 0x000001A8D9223B88>,\n",
       "        <matplotlib.axes._subplots.AxesSubplot object at 0x000001A8D925BC88>,\n",
       "        <matplotlib.axes._subplots.AxesSubplot object at 0x000001A8D9294D88>,\n",
       "        <matplotlib.axes._subplots.AxesSubplot object at 0x000001A8D92CDE88>,\n",
       "        <matplotlib.axes._subplots.AxesSubplot object at 0x000001A8D9306F88>,\n",
       "        <matplotlib.axes._subplots.AxesSubplot object at 0x000001A8D93430C8>,\n",
       "        <matplotlib.axes._subplots.AxesSubplot object at 0x000001A8D937B1C8>,\n",
       "        <matplotlib.axes._subplots.AxesSubplot object at 0x000001A8D93B4308>,\n",
       "        <matplotlib.axes._subplots.AxesSubplot object at 0x000001A8D93EC3C8>,\n",
       "        <matplotlib.axes._subplots.AxesSubplot object at 0x000001A8D94254C8>],\n",
       "       [<matplotlib.axes._subplots.AxesSubplot object at 0x000001A8D945E608>,\n",
       "        <matplotlib.axes._subplots.AxesSubplot object at 0x000001A8D9497708>,\n",
       "        <matplotlib.axes._subplots.AxesSubplot object at 0x000001A8D94CF808>,\n",
       "        <matplotlib.axes._subplots.AxesSubplot object at 0x000001A8D95088C8>,\n",
       "        <matplotlib.axes._subplots.AxesSubplot object at 0x000001A8D95419C8>,\n",
       "        <matplotlib.axes._subplots.AxesSubplot object at 0x000001A8D9579AC8>,\n",
       "        <matplotlib.axes._subplots.AxesSubplot object at 0x000001A8D95B2C08>,\n",
       "        <matplotlib.axes._subplots.AxesSubplot object at 0x000001A8D95ECD08>,\n",
       "        <matplotlib.axes._subplots.AxesSubplot object at 0x000001A8D9624DC8>,\n",
       "        <matplotlib.axes._subplots.AxesSubplot object at 0x000001A8D965DF08>,\n",
       "        <matplotlib.axes._subplots.AxesSubplot object at 0x000001A8D9699048>],\n",
       "       [<matplotlib.axes._subplots.AxesSubplot object at 0x000001A8D96D2148>,\n",
       "        <matplotlib.axes._subplots.AxesSubplot object at 0x000001A8D970C288>,\n",
       "        <matplotlib.axes._subplots.AxesSubplot object at 0x000001A8D9745388>,\n",
       "        <matplotlib.axes._subplots.AxesSubplot object at 0x000001A8D977C408>,\n",
       "        <matplotlib.axes._subplots.AxesSubplot object at 0x000001A8D97B6548>,\n",
       "        <matplotlib.axes._subplots.AxesSubplot object at 0x000001A8D97F3E88>,\n",
       "        <matplotlib.axes._subplots.AxesSubplot object at 0x000001A8D9827788>,\n",
       "        <matplotlib.axes._subplots.AxesSubplot object at 0x000001A8D9860888>,\n",
       "        <matplotlib.axes._subplots.AxesSubplot object at 0x000001A8D9897948>,\n",
       "        <matplotlib.axes._subplots.AxesSubplot object at 0x000001A8D98D0A48>,\n",
       "        <matplotlib.axes._subplots.AxesSubplot object at 0x000001A8D9909B48>],\n",
       "       [<matplotlib.axes._subplots.AxesSubplot object at 0x000001A8D9942C88>,\n",
       "        <matplotlib.axes._subplots.AxesSubplot object at 0x000001A8D997BD88>,\n",
       "        <matplotlib.axes._subplots.AxesSubplot object at 0x000001A8D99B4E48>,\n",
       "        <matplotlib.axes._subplots.AxesSubplot object at 0x000001A8D99EDF88>,\n",
       "        <matplotlib.axes._subplots.AxesSubplot object at 0x000001A8D9A2A0C8>,\n",
       "        <matplotlib.axes._subplots.AxesSubplot object at 0x000001A8D9A631C8>,\n",
       "        <matplotlib.axes._subplots.AxesSubplot object at 0x000001A8D9A9B308>,\n",
       "        <matplotlib.axes._subplots.AxesSubplot object at 0x000001A8D9AD3388>,\n",
       "        <matplotlib.axes._subplots.AxesSubplot object at 0x000001A8D9B0B488>,\n",
       "        <matplotlib.axes._subplots.AxesSubplot object at 0x000001A8D9B445C8>,\n",
       "        <matplotlib.axes._subplots.AxesSubplot object at 0x000001A8D9B7E6C8>],\n",
       "       [<matplotlib.axes._subplots.AxesSubplot object at 0x000001A8D9BB77C8>,\n",
       "        <matplotlib.axes._subplots.AxesSubplot object at 0x000001A8D9BEF888>,\n",
       "        <matplotlib.axes._subplots.AxesSubplot object at 0x000001A8D9C28988>,\n",
       "        <matplotlib.axes._subplots.AxesSubplot object at 0x000001A8D9C61A88>,\n",
       "        <matplotlib.axes._subplots.AxesSubplot object at 0x000001A8D9C99B88>,\n",
       "        <matplotlib.axes._subplots.AxesSubplot object at 0x000001A8D9CD2CC8>,\n",
       "        <matplotlib.axes._subplots.AxesSubplot object at 0x000001A8D9D0BDC8>,\n",
       "        <matplotlib.axes._subplots.AxesSubplot object at 0x000001A8D9D42E88>,\n",
       "        <matplotlib.axes._subplots.AxesSubplot object at 0x000001A8D9D7BFC8>,\n",
       "        <matplotlib.axes._subplots.AxesSubplot object at 0x000001A8D9DB9108>,\n",
       "        <matplotlib.axes._subplots.AxesSubplot object at 0x000001A8D9DF3208>],\n",
       "       [<matplotlib.axes._subplots.AxesSubplot object at 0x000001A8D9E2C348>,\n",
       "        <matplotlib.axes._subplots.AxesSubplot object at 0x000001A8D9E633C8>,\n",
       "        <matplotlib.axes._subplots.AxesSubplot object at 0x000001A8D9E9C4C8>,\n",
       "        <matplotlib.axes._subplots.AxesSubplot object at 0x000001A8D9ED5608>,\n",
       "        <matplotlib.axes._subplots.AxesSubplot object at 0x000001A8D9F0D708>,\n",
       "        <matplotlib.axes._subplots.AxesSubplot object at 0x000001A8D9F46808>,\n",
       "        <matplotlib.axes._subplots.AxesSubplot object at 0x000001A8D9F7E908>,\n",
       "        <matplotlib.axes._subplots.AxesSubplot object at 0x000001A8D9FB7A08>,\n",
       "        <matplotlib.axes._subplots.AxesSubplot object at 0x000001A8D9FF1B08>,\n",
       "        <matplotlib.axes._subplots.AxesSubplot object at 0x000001A8DA029C48>,\n",
       "        <matplotlib.axes._subplots.AxesSubplot object at 0x000001A8DA061D88>],\n",
       "       [<matplotlib.axes._subplots.AxesSubplot object at 0x000001A8DA09AE08>,\n",
       "        <matplotlib.axes._subplots.AxesSubplot object at 0x000001A8DA0D3F08>,\n",
       "        <matplotlib.axes._subplots.AxesSubplot object at 0x000001A8DA110088>,\n",
       "        <matplotlib.axes._subplots.AxesSubplot object at 0x000001A8DA149188>,\n",
       "        <matplotlib.axes._subplots.AxesSubplot object at 0x000001A8DA181288>,\n",
       "        <matplotlib.axes._subplots.AxesSubplot object at 0x000001A8DA1BA348>,\n",
       "        <matplotlib.axes._subplots.AxesSubplot object at 0x000001A8DA1F4448>,\n",
       "        <matplotlib.axes._subplots.AxesSubplot object at 0x000001A8DA22C548>,\n",
       "        <matplotlib.axes._subplots.AxesSubplot object at 0x000001A8DA26AE88>,\n",
       "        <matplotlib.axes._subplots.AxesSubplot object at 0x000001A8DA29E788>,\n",
       "        <matplotlib.axes._subplots.AxesSubplot object at 0x000001A8DA2D7848>],\n",
       "       [<matplotlib.axes._subplots.AxesSubplot object at 0x000001A8DA30E888>,\n",
       "        <matplotlib.axes._subplots.AxesSubplot object at 0x000001A8DA346988>,\n",
       "        <matplotlib.axes._subplots.AxesSubplot object at 0x000001A8DA37FA88>,\n",
       "        <matplotlib.axes._subplots.AxesSubplot object at 0x000001A8DA3B6BC8>,\n",
       "        <matplotlib.axes._subplots.AxesSubplot object at 0x000001A8DA3F1CC8>,\n",
       "        <matplotlib.axes._subplots.AxesSubplot object at 0x000001A8DA429D88>,\n",
       "        <matplotlib.axes._subplots.AxesSubplot object at 0x000001A8DA463EC8>,\n",
       "        <matplotlib.axes._subplots.AxesSubplot object at 0x000001A8DA49CFC8>,\n",
       "        <matplotlib.axes._subplots.AxesSubplot object at 0x000001A8DA4D9108>,\n",
       "        <matplotlib.axes._subplots.AxesSubplot object at 0x000001A8DA511248>,\n",
       "        <matplotlib.axes._subplots.AxesSubplot object at 0x000001A8DA5492C8>]],\n",
       "      dtype=object)"
      ]
     },
     "execution_count": 24,
     "metadata": {},
     "output_type": "execute_result"
    },
    {
     "data": {
      "image/png": "[encoded data removed]",
      "text/plain": [
       "<Figure size 432x288 with 121 Axes>"
      ]
     },
     "metadata": {
      "needs_background": "light"
     },
     "output_type": "display_data"
    }
   ],
   "source": [
    "pd.plotting.scatter_matrix(df, alpha=0.2)"
   ]
  },
  {
   "cell_type": "code",
   "execution_count": 30,
   "metadata": {},
   "outputs": [],
   "source": [
    "from sklearn.preprocessing import StandardScaler\n",
    "scaler = StandardScaler()\n",
    "scaler.fit(xtrain)\n",
    "train=scaler.transform(xtrain)"
   ]
  },
  {
   "cell_type": "code",
   "execution_count": 31,
   "metadata": {},
   "outputs": [
    {
     "data": {
      "text/plain": [
       "array([[-0.05425213, -0.49497409,  0.6631117 , ...,  0.19235166,\n",
       "        -0.07853939, -1.00883649],\n",
       "       [ 0.30492958, -0.98736271,  0.42616101, ...,  1.04308203,\n",
       "         2.58537588, -1.1682152 ],\n",
       "       [-0.53316108,  2.16392445, -1.3904609 , ...,  0.58499645,\n",
       "        -1.41049703, -1.24790456],\n",
       "       ...,\n",
       "       [ 0.30492958,  1.47458039,  2.16379936, ..., -0.52749712,\n",
       "        -0.34493092, -1.48697264],\n",
       "       [ 0.06547511, -0.19954092, -0.20570748, ...,  0.84675964,\n",
       "         0.01025778,  0.66464004],\n",
       "       [ 0.66411129,  0.88371404, -0.60062528, ..., -0.39661553,\n",
       "        -0.25613374, -0.13225355]])"
      ]
     },
     "execution_count": 31,
     "metadata": {},
     "output_type": "execute_result"
    }
   ],
   "source": [
    "train"
   ]
  },
  {
   "cell_type": "code",
   "execution_count": 35,
   "metadata": {},
   "outputs": [
    {
     "data": {
      "text/plain": [
       "RandomForestClassifier(bootstrap=True, ccp_alpha=0.0, class_weight=None,\n",
       "                       criterion='gini', max_depth=None, max_features='auto',\n",
       "                       max_leaf_nodes=None, max_samples=None,\n",
       "                       min_impurity_decrease=0.0, min_impurity_split=None,\n",
       "                       min_samples_leaf=1, min_samples_split=2,\n",
       "                       min_weight_fraction_leaf=0.0, n_estimators=100,\n",
       "                       n_jobs=None, oob_score=False, random_state=None,\n",
       "                       verbose=0, warm_start=False)"
      ]
     },
     "execution_count": 35,
     "metadata": {},
     "output_type": "execute_result"
    }
   ],
   "source": [
    "from sklearn.ensemble import RandomForestClassifier\n",
    "clf = RandomForestClassifier()\n",
    "clf.fit(xtrain, ytrain)"
   ]
  },
  {
   "cell_type": "code",
   "execution_count": 36,
   "metadata": {},
   "outputs": [],
   "source": [
    "a=clf.predict(xtrain)"
   ]
  },
  {
   "cell_type": "code",
   "execution_count": 37,
   "metadata": {},
   "outputs": [
    {
     "data": {
      "text/plain": [
       "1.0"
      ]
     },
     "execution_count": 37,
     "metadata": {},
     "output_type": "execute_result"
    }
   ],
   "source": [
    "from sklearn.metrics import accuracy_score\n",
    "accuracy_score(ytrain,a)"
   ]
  },
  {
   "cell_type": "code",
   "execution_count": 45,
   "metadata": {},
   "outputs": [],
   "source": [
    "from sklearn.preprocessing import StandardScaler\n",
    "scaler = StandardScaler()\n",
    "scaler.fit(xval)\n",
    "val=scaler.transform(xval)"
   ]
  },
  {
   "cell_type": "code",
   "execution_count": 46,
   "metadata": {},
   "outputs": [],
   "source": [
    "b=clf.predict(val)"
   ]
  },
  {
   "cell_type": "code",
   "execution_count": 47,
   "metadata": {},
   "outputs": [
    {
     "data": {
      "text/plain": [
       "0.34936479128856623"
      ]
     },
     "execution_count": 47,
     "metadata": {},
     "output_type": "execute_result"
    }
   ],
   "source": [
    "accuracy_score(yval,b)"
   ]
  },
  {
   "cell_type": "code",
   "execution_count": 48,
   "metadata": {},
   "outputs": [
    {
     "name": "stderr",
     "output_type": "stream",
     "text": [
      "C:\\Users\\HP\\anaconda3\\lib\\site-packages\\sklearn\\linear_model\\_logistic.py:940: ConvergenceWarning: lbfgs failed to converge (status=1):\n",
      "STOP: TOTAL NO. of ITERATIONS REACHED LIMIT.\n",
      "\n",
      "Increase the number of iterations (max_iter) or scale the data as shown in:\n",
      "    https://scikit-learn.org/stable/modules/preprocessing.html\n",
      "Please also refer to the documentation for alternative solver options:\n",
      "    https://scikit-learn.org/stable/modules/linear_model.html#logistic-regression\n",
      "  extra_warning_msg=_LOGISTIC_SOLVER_CONVERGENCE_MSG)\n"
     ]
    },
    {
     "data": {
      "text/plain": [
       "0.43920145190562615"
      ]
     },
     "execution_count": 48,
     "metadata": {},
     "output_type": "execute_result"
    }
   ],
   "source": [
    "from sklearn.linear_model import LogisticRegression\n",
    "cl=LogisticRegression()\n",
    "cl.fit(xtrain, ytrain)\n",
    "b=cl.predict(val)\n",
    "accuracy_score(yval,b)"
   ]
  },
  {
   "cell_type": "code",
   "execution_count": 50,
   "metadata": {},
   "outputs": [],
   "source": [
    "import xgboost as xgb"
   ]
  },
  {
   "cell_type": "code",
   "execution_count": 54,
   "metadata": {},
   "outputs": [
    {
     "ename": "TypeError",
     "evalue": "must be real number, not str",
     "output_type": "error",
     "traceback": [
      "\u001b[1;31m---------------------------------------------------------------------------\u001b[0m",
      "\u001b[1;31mTypeError\u001b[0m                                 Traceback (most recent call last)",
      "\u001b[1;32m<ipython-input-54-11562bd4f7ef>\u001b[0m in \u001b[0;36m<module>\u001b[1;34m\u001b[0m\n\u001b[1;32m----> 1\u001b[1;33m \u001b[0mD_train\u001b[0m \u001b[1;33m=\u001b[0m \u001b[0mxgb\u001b[0m\u001b[1;33m.\u001b[0m\u001b[0mDMatrix\u001b[0m\u001b[1;33m(\u001b[0m\u001b[0mtrain\u001b[0m\u001b[1;33m,\u001b[0m \u001b[0mlabel\u001b[0m\u001b[1;33m=\u001b[0m\u001b[0mytrain\u001b[0m\u001b[1;33m)\u001b[0m\u001b[1;33m\u001b[0m\u001b[1;33m\u001b[0m\u001b[0m\n\u001b[0m\u001b[0;32m      2\u001b[0m \u001b[0mD_test\u001b[0m \u001b[1;33m=\u001b[0m \u001b[0mxgb\u001b[0m\u001b[1;33m.\u001b[0m\u001b[0mDMatrix\u001b[0m\u001b[1;33m(\u001b[0m\u001b[0mval\u001b[0m\u001b[1;33m,\u001b[0m \u001b[0mlabel\u001b[0m\u001b[1;33m=\u001b[0m\u001b[0myval\u001b[0m\u001b[1;33m)\u001b[0m\u001b[1;33m\u001b[0m\u001b[1;33m\u001b[0m\u001b[0m\n\u001b[0;32m      3\u001b[0m param = {\n\u001b[0;32m      4\u001b[0m     \u001b[1;34m'eta'\u001b[0m\u001b[1;33m:\u001b[0m \u001b[1;36m0.3\u001b[0m\u001b[1;33m,\u001b[0m\u001b[1;33m\u001b[0m\u001b[1;33m\u001b[0m\u001b[0m\n\u001b[0;32m      5\u001b[0m     \u001b[1;34m'max_depth'\u001b[0m\u001b[1;33m:\u001b[0m \u001b[1;36m3\u001b[0m\u001b[1;33m,\u001b[0m\u001b[1;33m\u001b[0m\u001b[1;33m\u001b[0m\u001b[0m\n",
      "\u001b[1;32m~\\anaconda3\\lib\\site-packages\\xgboost\\core.py\u001b[0m in \u001b[0;36m__init__\u001b[1;34m(self, data, label, weight, base_margin, missing, silent, feature_names, feature_types, nthread)\u001b[0m\n\u001b[0;32m    550\u001b[0m \u001b[1;33m\u001b[0m\u001b[0m\n\u001b[0;32m    551\u001b[0m         \u001b[1;32mif\u001b[0m \u001b[0mlabel\u001b[0m \u001b[1;32mis\u001b[0m \u001b[1;32mnot\u001b[0m \u001b[1;32mNone\u001b[0m\u001b[1;33m:\u001b[0m\u001b[1;33m\u001b[0m\u001b[1;33m\u001b[0m\u001b[0m\n\u001b[1;32m--> 552\u001b[1;33m             \u001b[0mself\u001b[0m\u001b[1;33m.\u001b[0m\u001b[0mset_label\u001b[0m\u001b[1;33m(\u001b[0m\u001b[0mlabel\u001b[0m\u001b[1;33m)\u001b[0m\u001b[1;33m\u001b[0m\u001b[1;33m\u001b[0m\u001b[0m\n\u001b[0m\u001b[0;32m    553\u001b[0m         \u001b[1;32mif\u001b[0m \u001b[0mweight\u001b[0m \u001b[1;32mis\u001b[0m \u001b[1;32mnot\u001b[0m \u001b[1;32mNone\u001b[0m\u001b[1;33m:\u001b[0m\u001b[1;33m\u001b[0m\u001b[1;33m\u001b[0m\u001b[0m\n\u001b[0;32m    554\u001b[0m             \u001b[0mself\u001b[0m\u001b[1;33m.\u001b[0m\u001b[0mset_weight\u001b[0m\u001b[1;33m(\u001b[0m\u001b[0mweight\u001b[0m\u001b[1;33m)\u001b[0m\u001b[1;33m\u001b[0m\u001b[1;33m\u001b[0m\u001b[0m\n",
      "\u001b[1;32m~\\anaconda3\\lib\\site-packages\\xgboost\\core.py\u001b[0m in \u001b[0;36mset_label\u001b[1;34m(self, label)\u001b[0m\n\u001b[0;32m    827\u001b[0m             \u001b[0mself\u001b[0m\u001b[1;33m.\u001b[0m\u001b[0mset_interface_info\u001b[0m\u001b[1;33m(\u001b[0m\u001b[1;34m'label'\u001b[0m\u001b[1;33m,\u001b[0m \u001b[0mlabel\u001b[0m\u001b[1;33m)\u001b[0m\u001b[1;33m\u001b[0m\u001b[1;33m\u001b[0m\u001b[0m\n\u001b[0;32m    828\u001b[0m         \u001b[1;32melse\u001b[0m\u001b[1;33m:\u001b[0m\u001b[1;33m\u001b[0m\u001b[1;33m\u001b[0m\u001b[0m\n\u001b[1;32m--> 829\u001b[1;33m             \u001b[0mself\u001b[0m\u001b[1;33m.\u001b[0m\u001b[0mset_float_info\u001b[0m\u001b[1;33m(\u001b[0m\u001b[1;34m'label'\u001b[0m\u001b[1;33m,\u001b[0m \u001b[0mlabel\u001b[0m\u001b[1;33m)\u001b[0m\u001b[1;33m\u001b[0m\u001b[1;33m\u001b[0m\u001b[0m\n\u001b[0m\u001b[0;32m    830\u001b[0m \u001b[1;33m\u001b[0m\u001b[0m\n\u001b[0;32m    831\u001b[0m     \u001b[1;32mdef\u001b[0m \u001b[0mset_weight\u001b[0m\u001b[1;33m(\u001b[0m\u001b[0mself\u001b[0m\u001b[1;33m,\u001b[0m \u001b[0mweight\u001b[0m\u001b[1;33m)\u001b[0m\u001b[1;33m:\u001b[0m\u001b[1;33m\u001b[0m\u001b[1;33m\u001b[0m\u001b[0m\n",
      "\u001b[1;32m~\\anaconda3\\lib\\site-packages\\xgboost\\core.py\u001b[0m in \u001b[0;36mset_float_info\u001b[1;34m(self, field, data)\u001b[0m\n\u001b[0;32m    742\u001b[0m             \u001b[0mself\u001b[0m\u001b[1;33m.\u001b[0m\u001b[0mset_float_info_npy2d\u001b[0m\u001b[1;33m(\u001b[0m\u001b[0mfield\u001b[0m\u001b[1;33m,\u001b[0m \u001b[0mdata\u001b[0m\u001b[1;33m)\u001b[0m\u001b[1;33m\u001b[0m\u001b[1;33m\u001b[0m\u001b[0m\n\u001b[0;32m    743\u001b[0m             \u001b[1;32mreturn\u001b[0m\u001b[1;33m\u001b[0m\u001b[1;33m\u001b[0m\u001b[0m\n\u001b[1;32m--> 744\u001b[1;33m         \u001b[0mc_data\u001b[0m \u001b[1;33m=\u001b[0m \u001b[0mc_array\u001b[0m\u001b[1;33m(\u001b[0m\u001b[0mctypes\u001b[0m\u001b[1;33m.\u001b[0m\u001b[0mc_float\u001b[0m\u001b[1;33m,\u001b[0m \u001b[0mdata\u001b[0m\u001b[1;33m)\u001b[0m\u001b[1;33m\u001b[0m\u001b[1;33m\u001b[0m\u001b[0m\n\u001b[0m\u001b[0;32m    745\u001b[0m         _check_call(_LIB.XGDMatrixSetFloatInfo(self.handle,\n\u001b[0;32m    746\u001b[0m                                                \u001b[0mc_str\u001b[0m\u001b[1;33m(\u001b[0m\u001b[0mfield\u001b[0m\u001b[1;33m)\u001b[0m\u001b[1;33m,\u001b[0m\u001b[1;33m\u001b[0m\u001b[1;33m\u001b[0m\u001b[0m\n",
      "\u001b[1;32m~\\anaconda3\\lib\\site-packages\\xgboost\\core.py\u001b[0m in \u001b[0;36mc_array\u001b[1;34m(ctype, values)\u001b[0m\n\u001b[0;32m    260\u001b[0m             and values.dtype.itemsize == ctypes.sizeof(ctype)):\n\u001b[0;32m    261\u001b[0m         \u001b[1;32mreturn\u001b[0m \u001b[1;33m(\u001b[0m\u001b[0mctype\u001b[0m \u001b[1;33m*\u001b[0m \u001b[0mlen\u001b[0m\u001b[1;33m(\u001b[0m\u001b[0mvalues\u001b[0m\u001b[1;33m)\u001b[0m\u001b[1;33m)\u001b[0m\u001b[1;33m.\u001b[0m\u001b[0mfrom_buffer_copy\u001b[0m\u001b[1;33m(\u001b[0m\u001b[0mvalues\u001b[0m\u001b[1;33m)\u001b[0m\u001b[1;33m\u001b[0m\u001b[1;33m\u001b[0m\u001b[0m\n\u001b[1;32m--> 262\u001b[1;33m     \u001b[1;32mreturn\u001b[0m \u001b[1;33m(\u001b[0m\u001b[0mctype\u001b[0m \u001b[1;33m*\u001b[0m \u001b[0mlen\u001b[0m\u001b[1;33m(\u001b[0m\u001b[0mvalues\u001b[0m\u001b[1;33m)\u001b[0m\u001b[1;33m)\u001b[0m\u001b[1;33m(\u001b[0m\u001b[1;33m*\u001b[0m\u001b[0mvalues\u001b[0m\u001b[1;33m)\u001b[0m\u001b[1;33m\u001b[0m\u001b[1;33m\u001b[0m\u001b[0m\n\u001b[0m\u001b[0;32m    263\u001b[0m \u001b[1;33m\u001b[0m\u001b[0m\n\u001b[0;32m    264\u001b[0m \u001b[1;33m\u001b[0m\u001b[0m\n",
      "\u001b[1;31mTypeError\u001b[0m: must be real number, not str"
     ]
    }
   ],
   "source": [
    "D_train = xgb.DMatrix(train, label=ytrain)\n",
    "D_test = xgb.DMatrix(val, label=yval)\n",
    "param = {\n",
    "    'eta': 0.3, \n",
    "    'max_depth': 3,  \n",
    "    'objective': 'multi:softprob',  \n",
    "    'num_class': 3} \n",
    "\n",
    "steps = 20 "
   ]
  },
  {
   "cell_type": "code",
   "execution_count": null,
   "metadata": {},
   "outputs": [],
   "source": [
    "model = xgb.train(param, D_train, steps)"
   ]
  },
  {
   "cell_type": "markdown",
   "metadata": {},
   "source": [
    "Now using KNN classifier"
   ]
  },
  {
   "cell_type": "code",
   "execution_count": 56,
   "metadata": {},
   "outputs": [
    {
     "data": {
      "text/plain": [
       "NearestCentroid(metric='euclidean', shrink_threshold=None)"
      ]
     },
     "execution_count": 56,
     "metadata": {},
     "output_type": "execute_result"
    }
   ],
   "source": [
    "from sklearn.neighbors import NearestCentroid\n",
    "clj = NearestCentroid()\n",
    "clj.fit(train, ytrain)"
   ]
  },
  {
   "cell_type": "code",
   "execution_count": 57,
   "metadata": {},
   "outputs": [
    {
     "data": {
      "text/plain": [
       "0.4691470054446461"
      ]
     },
     "execution_count": 57,
     "metadata": {},
     "output_type": "execute_result"
    }
   ],
   "source": [
    "c=clj.predict(val)\n",
    "accuracy_score(yval,c)"
   ]
  },
  {
   "cell_type": "code",
   "execution_count": null,
   "metadata": {},
   "outputs": [],
   "source": []
  }
 ],
 "metadata": {
  "kernelspec": {
   "display_name": "Python 3",
   "language": "python",
   "name": "python3"
  },
  "language_info": {
   "codemirror_mode": {
    "name": "ipython",
    "version": 3
   },
   "file_extension": ".py",
   "mimetype": "text/x-python",
   "name": "python",
   "nbconvert_exporter": "python",
   "pygments_lexer": "ipython3",
   "version": "3.7.6"
  }
 },
 "nbformat": 4,
 "nbformat_minor": 4
}
